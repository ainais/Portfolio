{
 "cells": [
  {
   "cell_type": "markdown",
   "metadata": {},
   "source": [
    "1. 사용자로부터 5개의 숫자를 읽어서 리스트에 저장하고 숫자들의 평균을 계산하여 출력한다.\n",
    "\n",
    "또 숫자중에서 평균을 출력하여 보자."
   ]
  },
  {
   "cell_type": "code",
   "execution_count": null,
   "metadata": {},
   "outputs": [],
   "source": [
    "avg = 0\n",
    "for i in range(5):\n",
    "    avg += int(input(\"정수를 입력하세요\"))\n",
    "print(avg/5)"
   ]
  },
  {
   "cell_type": "markdown",
   "metadata": {},
   "source": [
    "2. 사용자에게서받은문자들을 역순으로 출력한다."
   ]
  },
  {
   "cell_type": "code",
   "execution_count": null,
   "metadata": {},
   "outputs": [],
   "source": [
    "print(input(\"문자를 입력해주세요.\")[::-1])"
   ]
  },
  {
   "cell_type": "markdown",
   "metadata": {},
   "source": [
    "3. 사용자에게서받은정수들의평균과표준편차를계산하여출력한다. 평균과표준편차를프로그램을 작성하세요"
   ]
  },
  {
   "cell_type": "code",
   "execution_count": null,
   "metadata": {},
   "outputs": [],
   "source": [
    "intList = [10,20,30,40,50]\n",
    "print('평균=',sum(intList)/len(intList))\n",
    "\n",
    "import numpy as np\n",
    "print('표준편차=',np.std(intList))"
   ]
  },
  {
   "cell_type": "markdown",
   "metadata": {},
   "source": [
    "4. 전화 키패드에는 각 숫자키마다 3개의 문자가 적혀있다. 사용자가 입력한 문자열을 전화기의 숫자키로 변환하는 프로그램을 작성해보자."
   ]
  },
  {
   "cell_type": "code",
   "execution_count": 1,
   "metadata": {},
   "outputs": [
    {
     "name": "stdout",
     "output_type": "stream",
     "text": [
      "6 8 6 2 3 7 "
     ]
    }
   ],
   "source": [
    "inputNumber = 'NUMBER'\n",
    "number ={(1,4):1,(2,4):2,(3,4):3,(1,3):4,(2,3):5,(3,3):6,(1,2):7,(2,2):8,(3,2):9,(2,1):0,(1,1):'*',(3,1):'#'}    \n",
    "def numberReturn(a):\n",
    "    if a == 'N':\n",
    "        return(number[(3,3)])\n",
    "    elif a == 'U':\n",
    "        return(number[(2,2)])\n",
    "    elif a == 'M':\n",
    "        return(number[(3,3)])\n",
    "    elif a == 'B':\n",
    "        return(number[(2,4)])\n",
    "    elif a =='E':\n",
    "        return(number[(3,4)])\n",
    "    elif a =='R':\n",
    "        return(number[(1,2)])\n",
    "for i in inputNumber:\n",
    "    print(numberReturn(i),end=\" \")"
   ]
  },
  {
   "cell_type": "code",
   "execution_count": null,
   "metadata": {},
   "outputs": [],
   "source": [
    "# 좌표 값들을 튜플로 설정\n",
    "def setPosition(a):\n",
    "    if a == 1:\n",
    "        return((1,4))\n",
    "    elif a == 2:\n",
    "        return((2,4))\n",
    "    elif a == 3:\n",
    "        return((3,4))\n",
    "    elif a == 4:\n",
    "        return((1,3))\n",
    "    elif a == 5:\n",
    "        return((2,3))\n",
    "    elif a == 6:\n",
    "        return((3,3))\n",
    "    elif a == 7:\n",
    "        return((1,2))\n",
    "    elif a == 8:\n",
    "        return((2,2))\n",
    "    elif a == 9:\n",
    "        return((3,2))\n",
    "    elif a == 0:\n",
    "        return((2,1))\n",
    "    elif a == '*':\n",
    "        return((1,1))\n",
    "    elif a == '#':\n",
    "        return((3,1))"
   ]
  }
 ],
 "metadata": {
  "kernelspec": {
   "display_name": "Python 3",
   "language": "python",
   "name": "python3"
  },
  "language_info": {
   "codemirror_mode": {
    "name": "ipython",
    "version": 3
   },
   "file_extension": ".py",
   "mimetype": "text/x-python",
   "name": "python",
   "nbconvert_exporter": "python",
   "pygments_lexer": "ipython3",
   "version": "3.8.5"
  }
 },
 "nbformat": 4,
 "nbformat_minor": 4
}
