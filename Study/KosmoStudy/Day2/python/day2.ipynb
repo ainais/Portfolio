{
 "cells": [
  {
   "cell_type": "markdown",
   "metadata": {},
   "source": [
    "# 문제 1\n",
    "### data에는 매수한 종목들의 OHLC(open/high/low/colse) 가격 정보가 바인딩 되어 있다. 수수료를 0.014%로 가정할 때, 각 가격에 수수료를 포함한 가격을 한라인에 하나씩 출력하라"
   ]
  },
  {
   "cell_type": "code",
   "execution_count": 1,
   "metadata": {},
   "outputs": [],
   "source": [
    "data = [\n",
    "    [ 2000, 3050, 2050, 1980],\n",
    "    [ 7500, 2050, 2050, 1980],\n",
    "    [ 15450, 15050, 15550, 14900]\n",
    "]"
   ]
  },
  {
   "cell_type": "code",
   "execution_count": 2,
   "metadata": {},
   "outputs": [
    {
     "name": "stdout",
     "output_type": "stream",
     "text": [
      "2000.28\n",
      "3050.427\n",
      "2050.287\n",
      "1980.2772\n",
      "7501.05\n",
      "2050.287\n",
      "2050.287\n",
      "1980.2772\n",
      "15452.163\n",
      "15052.107\n",
      "15552.177\n",
      "14902.086\n"
     ]
    }
   ],
   "source": [
    "for i in range(len(data)):\n",
    "    for j in range(len(data[0])):\n",
    "        result = data[i][j]+data[i][j]*0.00014\n",
    "        print(result)"
   ]
  },
  {
   "cell_type": "markdown",
   "metadata": {},
   "source": [
    "# 문제 2\n",
    "### 문제 1번의 출력결과에 행단위로 \"-----\"구분자를 추가하라."
   ]
  },
  {
   "cell_type": "code",
   "execution_count": 3,
   "metadata": {},
   "outputs": [
    {
     "name": "stdout",
     "output_type": "stream",
     "text": [
      "2000.28\n",
      "3050.427\n",
      "2050.287\n",
      "1980.2772\n",
      "----------\n",
      "7501.05\n",
      "2050.287\n",
      "2050.287\n",
      "1980.2772\n",
      "----------\n",
      "15452.163\n",
      "15052.107\n",
      "15552.177\n",
      "14902.086\n",
      "----------\n"
     ]
    }
   ],
   "source": [
    "for i in range(len(data)):\n",
    "    for j in range(len(data[0])):\n",
    "        result = data[i][j]+data[i][j]*0.00014\n",
    "        print(result)\n",
    "        if(j==(len(data[0])-1)):\n",
    "            print(\"----------\")"
   ]
  },
  {
   "cell_type": "markdown",
   "metadata": {},
   "source": [
    "# 문제 3\n",
    "### 문제 1번의 출력결과를 원래와 같은 2차원 배열로 저장하여라"
   ]
  },
  {
   "cell_type": "code",
   "execution_count": 4,
   "metadata": {},
   "outputs": [],
   "source": [
    "output = []\n",
    "for i in range(len(data)):\n",
    "    temp = []\n",
    "    for j in range(len(data[0])):\n",
    "        result = data[i][j]+data[i][j]*0.00014\n",
    "        temp.append(result)\n",
    "    output.append(temp)"
   ]
  },
  {
   "cell_type": "code",
   "execution_count": 5,
   "metadata": {},
   "outputs": [
    {
     "name": "stdout",
     "output_type": "stream",
     "text": [
      "[[2000.28, 3050.427, 2050.287, 1980.2772], [7501.05, 2050.287, 2050.287, 1980.2772], [15452.163, 15052.107, 15552.177, 14902.086]]\n"
     ]
    }
   ],
   "source": [
    "print(output)"
   ]
  },
  {
   "cell_type": "markdown",
   "metadata": {},
   "source": [
    "# 문제 4\n",
    "### ohlc 리스트에는 시가(open), 고가(high), 저가(low), 종가(close)가 날짜별로 저장돼있다. 화면에 종가데이터를 출력하라."
   ]
  },
  {
   "cell_type": "code",
   "execution_count": 6,
   "metadata": {},
   "outputs": [],
   "source": [
    "ohlc = [\n",
    "    [\"open\",\"high\",\"low\",\"close\"],\n",
    "    [100,110,70,100],\n",
    "    [200,210,180,190],\n",
    "    [300,310,300,310]    \n",
    "]"
   ]
  },
  {
   "cell_type": "code",
   "execution_count": 7,
   "metadata": {},
   "outputs": [
    {
     "name": "stdout",
     "output_type": "stream",
     "text": [
      "100\n",
      "190\n",
      "310\n"
     ]
    }
   ],
   "source": [
    "cnt = 0\n",
    "for i in range(len(ohlc[0])):\n",
    "    cnt = cnt +1\n",
    "    if(ohlc[0][i]==\"close\"):\n",
    "        for j in range(1,len(ohlc)):\n",
    "            print(ohlc[j][cnt-1])"
   ]
  },
  {
   "cell_type": "markdown",
   "metadata": {},
   "source": [
    "# 문제 5\n",
    "### 문제 4에서 종가가 시가 보다 크거나 같은 경우에만 종가를 출력하라"
   ]
  },
  {
   "cell_type": "code",
   "execution_count": 8,
   "metadata": {},
   "outputs": [
    {
     "name": "stdout",
     "output_type": "stream",
     "text": [
      "100\n",
      "310\n"
     ]
    }
   ],
   "source": [
    "cnt=0\n",
    "open_cnt=0\n",
    "close_cnt=0\n",
    "for i in range(len(ohlc[0])):\n",
    "    cnt = cnt + 1\n",
    "    if(ohlc[0][i]==\"open\"):\n",
    "        open_cnt=cnt\n",
    "    if(ohlc[0][i]==\"close\"):\n",
    "        close_cnt=cnt\n",
    "        \n",
    "for j in range(1,len(ohlc)):\n",
    "    if(ohlc[j][close_cnt-1] >= ohlc[j][open_cnt-1]):\n",
    "        print(ohlc[j][close_cnt-1])"
   ]
  }
 ],
 "metadata": {
  "kernelspec": {
   "display_name": "Python 3",
   "language": "python",
   "name": "python3"
  },
  "language_info": {
   "codemirror_mode": {
    "name": "ipython",
    "version": 3
   },
   "file_extension": ".py",
   "mimetype": "text/x-python",
   "name": "python",
   "nbconvert_exporter": "python",
   "pygments_lexer": "ipython3",
   "version": "3.8.5"
  }
 },
 "nbformat": 4,
 "nbformat_minor": 4
}
