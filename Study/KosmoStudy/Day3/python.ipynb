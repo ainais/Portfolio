{
 "cells": [
  {
   "cell_type": "markdown",
   "metadata": {},
   "source": [
    "# 문제1\n",
    "### 리스트에는 3일간의 ohlc 데이터가 저장돼 있다. 시가에 매수해서 종가에 매도 했을 경우 총 수익금을 계산하라"
   ]
  },
  {
   "cell_type": "code",
   "execution_count": 1,
   "metadata": {},
   "outputs": [],
   "source": [
    "ohlc = [\n",
    "    [\"open\",\"high\",\"low\",\"close\"],\n",
    "    [100,110,70,100],\n",
    "    [200,210,180,190],\n",
    "    [300,310,300,310]\n",
    "]"
   ]
  },
  {
   "cell_type": "code",
   "execution_count": 2,
   "metadata": {},
   "outputs": [
    {
     "name": "stdout",
     "output_type": "stream",
     "text": [
      "[0, -10, 10]\n"
     ]
    }
   ],
   "source": [
    "earnings = []\n",
    "for i in range(1,len(ohlc[0])):\n",
    "    earning = ohlc[i][3]-ohlc[i][0]\n",
    "    earnings.append(earning)\n",
    "print(earnings)"
   ]
  },
  {
   "cell_type": "markdown",
   "metadata": {},
   "source": [
    "# 문제2\n",
    "### 세 개의 숫자를 입력받아 가장 큰 수를 출력하는 print_max 함수를 정의하라. 단 if문을 사용해서 수를 비교하라"
   ]
  },
  {
   "cell_type": "code",
   "execution_count": 3,
   "metadata": {},
   "outputs": [],
   "source": [
    "# 기본 버젼\n",
    "def print_max(num1,num2,num3):\n",
    "    if (num1 > num2) & (num1 > num3):\n",
    "        print(num1)\n",
    "    elif (num2 > num1) & (num2 > num3):\n",
    "        print(num2)\n",
    "    elif (num3 > num1) & (num3 > num2):\n",
    "        print(num3)\n",
    "    else:\n",
    "        print(\"연산할 수 없는 수입니다.\")"
   ]
  },
  {
   "cell_type": "code",
   "execution_count": 4,
   "metadata": {},
   "outputs": [],
   "source": [
    "# 향상된 버젼\n",
    "def print_max2(num1,num2,num3):\n",
    "    max_number = 0\n",
    "    if (num1<0 | num2<0 | num3<0):\n",
    "        print(\"음수는 구현하지 않았습니다.\")\n",
    "    else:\n",
    "        if (num1 > max_number):\n",
    "            max_number = num1\n",
    "        if (num2 > max_number):\n",
    "            max_number = num2\n",
    "        if (num3 > max_number):\n",
    "            max_number = num3\n",
    "        print(max_number)"
   ]
  },
  {
   "cell_type": "code",
   "execution_count": 5,
   "metadata": {},
   "outputs": [
    {
     "name": "stdout",
     "output_type": "stream",
     "text": [
      "첫번째 숫자 : 5\n",
      "두번째 숫자 : 66\n",
      "세번째 숫자 : 108\n",
      "108\n",
      "--------------\n",
      "108\n"
     ]
    }
   ],
   "source": [
    "num1 = int( input(\"첫번째 숫자 : \") )\n",
    "num2 = int( input(\"두번째 숫자 : \") )\n",
    "num3 = int( input(\"세번째 숫자 : \") )\n",
    "print_max(num1,num2,num3)\n",
    "print(\"--------------\")\n",
    "print_max2(num1,num2,num3)"
   ]
  },
  {
   "cell_type": "markdown",
   "metadata": {},
   "source": [
    "# 문제3\n",
    "### 입력된 문자열을 역순으로 출력하는 print_reverse 함수를 정의하라."
   ]
  },
  {
   "cell_type": "code",
   "execution_count": 6,
   "metadata": {},
   "outputs": [],
   "source": [
    "def print_reverse(data):\n",
    "    result=\"\"\n",
    "    for i in reversed(range(len(data))):\n",
    "        result = result + data[i]\n",
    "    print(result)"
   ]
  },
  {
   "cell_type": "code",
   "execution_count": 7,
   "metadata": {},
   "outputs": [
    {
     "name": "stdout",
     "output_type": "stream",
     "text": [
      "nohtyp\n"
     ]
    }
   ],
   "source": [
    "print_reverse(\"python\")"
   ]
  },
  {
   "cell_type": "markdown",
   "metadata": {},
   "source": [
    "# 문제4\n",
    "### 숫자로 구성된 하나의 리스트를 입력받아, 짝수들을 추출하여 리스트로 반환하는 pickup_even 함수를 구현하라"
   ]
  },
  {
   "cell_type": "code",
   "execution_count": 8,
   "metadata": {},
   "outputs": [],
   "source": [
    "def pickup_even(li):\n",
    "    result = []\n",
    "    for i in range(len(li)):\n",
    "        if (li[i] % 2 == 0):\n",
    "            result.append(li[i])\n",
    "    print(result)"
   ]
  },
  {
   "cell_type": "code",
   "execution_count": 9,
   "metadata": {
    "scrolled": true
   },
   "outputs": [
    {
     "name": "stdout",
     "output_type": "stream",
     "text": [
      "[4, 6, 8]\n"
     ]
    }
   ],
   "source": [
    "pickup_even([3,4,5,6,7,8])"
   ]
  },
  {
   "cell_type": "markdown",
   "metadata": {},
   "source": [
    "# 문제5\n",
    "### 콤마가 포함된 문자열 숫자를 입력받아 정수로 변환하는 conver_int 함수를 정의하라"
   ]
  },
  {
   "cell_type": "code",
   "execution_count": 10,
   "metadata": {},
   "outputs": [],
   "source": [
    "def convert_int(data):\n",
    "    data = data.replace(\",\",\"\")\n",
    "    data = int(data)\n",
    "    print(data)"
   ]
  },
  {
   "cell_type": "code",
   "execution_count": 11,
   "metadata": {},
   "outputs": [
    {
     "name": "stdout",
     "output_type": "stream",
     "text": [
      "1234567\n"
     ]
    }
   ],
   "source": [
    "convert_int(\"1,234,567\")"
   ]
  }
 ],
 "metadata": {
  "kernelspec": {
   "display_name": "Python 3",
   "language": "python",
   "name": "python3"
  },
  "language_info": {
   "codemirror_mode": {
    "name": "ipython",
    "version": 3
   },
   "file_extension": ".py",
   "mimetype": "text/x-python",
   "name": "python",
   "nbconvert_exporter": "python",
   "pygments_lexer": "ipython3",
   "version": "3.8.5"
  }
 },
 "nbformat": 4,
 "nbformat_minor": 4
}
