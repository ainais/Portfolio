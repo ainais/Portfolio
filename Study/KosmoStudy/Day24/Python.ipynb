{
 "cells": [
  {
   "cell_type": "code",
   "execution_count": 2,
   "metadata": {},
   "outputs": [
    {
     "name": "stdout",
     "output_type": "stream",
     "text": [
      "3 20 4\n",
      "10\n"
     ]
    }
   ],
   "source": [
    "# 함수 시작\n",
    "# https://programmers.co.kr/learn/courses/30/lessons/82612\n",
    "def solution(price,money,count):\n",
    "    answer = -1\n",
    "    \n",
    "    total = 0\n",
    "    for i in range(1,count+1):\n",
    "        total = total + price*i\n",
    "        if total >= money:\n",
    "            answer = total-money\n",
    "            \n",
    "        if i==count:\n",
    "            if money >= total:\n",
    "                answer = 0\n",
    "    return answer\n",
    "\n",
    "# import\n",
    "price,money,count = 3,20,4\n",
    "print(price,money,count)\n",
    "print(solution(price,money,count))"
   ]
  }
 ],
 "metadata": {
  "kernelspec": {
   "display_name": "Python 3",
   "language": "python",
   "name": "python3"
  },
  "language_info": {
   "codemirror_mode": {
    "name": "ipython",
    "version": 3
   },
   "file_extension": ".py",
   "mimetype": "text/x-python",
   "name": "python",
   "nbconvert_exporter": "python",
   "pygments_lexer": "ipython3",
   "version": "3.8.5"
  }
 },
 "nbformat": 4,
 "nbformat_minor": 4
}
