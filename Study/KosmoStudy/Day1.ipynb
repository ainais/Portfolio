{
 "cells": [
  {
   "cell_type": "markdown",
   "metadata": {},
   "source": [
    "# 문제 1\n",
    "### 다음과 같이 정렬된 리스트 3개가 주어졌을 때 3개의 리스트에 모두 존재하는 값을 찾아 출력하시오.\n",
    "### (단, 정렬된 리스트라는 조건을 활용하여 최대한 효율적인 코드를 작성하시오)\n",
    "\n",
    "a = [1,3,5,7,9,13,15] <br>\n",
    "b = [4,5,6,8,13] <br>\n",
    "c = [5,8,13,19] <br>\n",
    "\n",
    "output = [5,13]"
   ]
  },
  {
   "cell_type": "code",
   "execution_count": 1,
   "metadata": {},
   "outputs": [],
   "source": [
    "a = [1,3,5,7,9,13,15]\n",
    "b = [4,5,6,8,13]\n",
    "c = [5,8,13,19]"
   ]
  },
  {
   "cell_type": "code",
   "execution_count": 6,
   "metadata": {},
   "outputs": [
    {
     "name": "stdout",
     "output_type": "stream",
     "text": [
      "[5, 13]\n"
     ]
    }
   ],
   "source": [
    "output = []\n",
    "for i in c:\n",
    "    if i in b:\n",
    "        if i in a:\n",
    "            answer.append(i)\n",
    "print(answer)"
   ]
  },
  {
   "cell_type": "markdown",
   "metadata": {},
   "source": [
    "# 문제 2\n",
    "### 원하는 숫자를 입력받아 그 숫자 범위 내에서 소수(나눌 수 있는 수가 자기자신과 1밖에 없는수)를 출력하시오."
   ]
  },
  {
   "cell_type": "code",
   "execution_count": 13,
   "metadata": {},
   "outputs": [
    {
     "name": "stdout",
     "output_type": "stream",
     "text": [
      "숫자를 입력해주세요 : 20\n"
     ]
    }
   ],
   "source": [
    "number = int( input(\"숫자를 입력해주세요 : \") )"
   ]
  },
  {
   "cell_type": "code",
   "execution_count": 14,
   "metadata": {},
   "outputs": [],
   "source": [
    "prime_number = []\n",
    "for i in range(1,number+1):\n",
    "    cnt = 0\n",
    "    for j in range(1,i+1):\n",
    "        if (i%j == 0 ):\n",
    "            cnt += 1\n",
    "    if (cnt == 2):\n",
    "        prime_number.append(i)"
   ]
  },
  {
   "cell_type": "code",
   "execution_count": 15,
   "metadata": {},
   "outputs": [
    {
     "name": "stdout",
     "output_type": "stream",
     "text": [
      "[2, 3, 5, 7, 11, 13, 17, 19]\n"
     ]
    }
   ],
   "source": [
    "print(prime_number)"
   ]
  }
 ],
 "metadata": {
  "kernelspec": {
   "display_name": "Python 3",
   "language": "python",
   "name": "python3"
  },
  "language_info": {
   "codemirror_mode": {
    "name": "ipython",
    "version": 3
   },
   "file_extension": ".py",
   "mimetype": "text/x-python",
   "name": "python",
   "nbconvert_exporter": "python",
   "pygments_lexer": "ipython3",
   "version": "3.8.5"
  }
 },
 "nbformat": 4,
 "nbformat_minor": 4
}
